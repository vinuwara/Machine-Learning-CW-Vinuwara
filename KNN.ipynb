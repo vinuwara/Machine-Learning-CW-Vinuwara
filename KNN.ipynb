{
 "cells": [
  {
   "cell_type": "markdown",
   "id": "01cd5e80",
   "metadata": {},
   "source": [
    "# KNN \n",
    "## Predict whether a email is a Spam or Not"
   ]
  },
  {
   "cell_type": "code",
   "execution_count": null,
   "id": "4eac8591",
   "metadata": {},
   "outputs": [],
   "source": [
    "# import necerssary libraries\n",
    "%matplotlib inline\n",
    "import numpy as np\n",
    "import matplotlib.pyplot as plt\n",
    "import pandas as pd\n",
    "import re"
   ]
  },
  {
   "cell_type": "code",
   "execution_count": null,
   "id": "e0f74628",
   "metadata": {},
   "outputs": [],
   "source": [
    "#Data_set=pd.read_csv(\"Spam.xls\")\n",
    "\n",
    "with open(\"spambase.names\") as spam:\n",
    " text = spam.read()\n",
    "labels = re.findall(r'\\n(\\w*_?\\W?):', text)\n",
    "#labels.append('Class')\n",
    "Data_set = pd.read_csv(\"spambase.data\", header=None, names=labels +['spam']) \n",
    "# spam = spamData.pop('spam')\n",
    "\n",
    "Data_array=Data_set.values\n",
    "# print(Data_array)\n",
    "Data_set.head()"
   ]
  },
  {
   "cell_type": "code",
   "execution_count": null,
   "id": "c96a048f",
   "metadata": {},
   "outputs": [],
   "source": [
    "print(\"Number of rows before preprocessing : \", len(Data_set))"
   ]
  },
  {
   "cell_type": "markdown",
   "id": "aeccd548",
   "metadata": {},
   "source": [
    " Finding the duplicates in the dataset"
   ]
  },
  {
   "cell_type": "code",
   "execution_count": null,
   "id": "a0acf6a0",
   "metadata": {},
   "outputs": [],
   "source": [
    "Data_set.duplicated()"
   ]
  },
  {
   "cell_type": "markdown",
   "id": "94e5f5ad",
   "metadata": {},
   "source": [
    "Dropping the duplicate values"
   ]
  },
  {
   "cell_type": "code",
   "execution_count": null,
   "id": "a13e66b2",
   "metadata": {},
   "outputs": [],
   "source": [
    "Data_set.drop_duplicates(inplace=True)"
   ]
  },
  {
   "cell_type": "code",
   "execution_count": null,
   "id": "1bb09625",
   "metadata": {},
   "outputs": [],
   "source": [
    "print(\"Number of rows in after removing duplicates : \", len(Data_set))"
   ]
  },
  {
   "cell_type": "markdown",
   "id": "6e0fd204",
   "metadata": {},
   "source": [
    "Finding the null values in the dataset"
   ]
  },
  {
   "cell_type": "code",
   "execution_count": null,
   "id": "2f35c435",
   "metadata": {},
   "outputs": [],
   "source": [
    "Data_set.isna().sum()"
   ]
  },
  {
   "cell_type": "markdown",
   "id": "bbd3f250",
   "metadata": {},
   "source": [
    "Removing the target column "
   ]
  },
  {
   "cell_type": "code",
   "execution_count": null,
   "id": "a1eb0cc2",
   "metadata": {},
   "outputs": [],
   "source": [
    "data=Data_set.drop(labels=['spam'], axis=1)\n",
    "data.head()"
   ]
  },
  {
   "cell_type": "code",
   "execution_count": null,
   "id": "b6690b4c",
   "metadata": {},
   "outputs": [],
   "source": [
    "print(\"Number of rows after preprocessing : \", len(Data_set))"
   ]
  },
  {
   "cell_type": "markdown",
   "id": "4dc26702",
   "metadata": {},
   "source": [
    "Summary of dataset before performing Standard Scaler"
   ]
  },
  {
   "cell_type": "code",
   "execution_count": null,
   "id": "f74c56ac",
   "metadata": {},
   "outputs": [],
   "source": [
    "data.describe()"
   ]
  },
  {
   "cell_type": "markdown",
   "id": "89e773b7",
   "metadata": {},
   "source": [
    "Performing Standard Scaling for the dataset"
   ]
  },
  {
   "cell_type": "code",
   "execution_count": null,
   "id": "38737634",
   "metadata": {
    "scrolled": true
   },
   "outputs": [],
   "source": [
    "from sklearn.preprocessing import StandardScaler\n",
    "scaler=StandardScaler()\n",
    "scaled_data=scaler.fit_transform(data)\n",
    "df=pd.DataFrame(data=scaled_data, columns= data.columns)\n",
    "df"
   ]
  },
  {
   "cell_type": "markdown",
   "id": "bed5020e",
   "metadata": {},
   "source": [
    "Summmary of dataset after performing Standard Scaling"
   ]
  },
  {
   "cell_type": "code",
   "execution_count": null,
   "id": "825327f1",
   "metadata": {},
   "outputs": [],
   "source": [
    "df.describe()"
   ]
  },
  {
   "cell_type": "markdown",
   "id": "e0f42629",
   "metadata": {},
   "source": [
    "Performing PCA to the Dataset"
   ]
  },
  {
   "cell_type": "code",
   "execution_count": null,
   "id": "f2f96176",
   "metadata": {},
   "outputs": [],
   "source": [
    "from sklearn.decomposition import PCA\n",
    "pca = PCA()\n",
    "\n",
    "principalComponents = pca.fit_transform(df)\n",
    "\n",
    "plt.figure()\n",
    "plt.plot(np.cumsum(pca.explained_variance_ratio_))\n",
    "\n",
    "plt.xlabel('Number of Components')\n",
    "plt.ylabel('Variance (%)') #for each component\n",
    "\n",
    "plt.title('Variance Graph')\n",
    "plt.grid(True)\n",
    "plt.show()"
   ]
  },
  {
   "cell_type": "markdown",
   "id": "76f5ea8c",
   "metadata": {},
   "source": [
    "Introducing the PCA components"
   ]
  },
  {
   "cell_type": "code",
   "execution_count": null,
   "id": "c3877428",
   "metadata": {},
   "outputs": [],
   "source": [
    "pca = PCA(n_components=44)\n",
    "new_data = pca.fit_transform(df)\n",
    "\n",
    "# This will be the new data fed to the algorithm.\n",
    "principal_Df = pd.DataFrame(data = new_data\n",
    "             , columns = ['PC1', 'PC2','PC3','PC4','PC5','PC6','PC7','PC8','PC9','PC10',\n",
    "                          'PC11','PC12','PC13','PC14','PC15','PC16','PC17','PC18','PC19','PC20',\n",
    "                         'PC21', 'PC22','PC23','PC24','PC25','PC26','PC27','PC28','PC29','PC30',\n",
    "                          'PC31','PC32','PC33','PC34','PC35','PC36','PC37','PC38','PC39','PC40',\n",
    "                          'PC41','PC42','PC43','PC44'])"
   ]
  },
  {
   "cell_type": "markdown",
   "id": "6cbc3bff",
   "metadata": {},
   "source": [
    "Dataset after performing PCA"
   ]
  },
  {
   "cell_type": "code",
   "execution_count": null,
   "id": "ce02c23f",
   "metadata": {},
   "outputs": [],
   "source": [
    "principal_Df.head()\n",
    "# principal_Df"
   ]
  },
  {
   "cell_type": "code",
   "execution_count": null,
   "id": "d8cc2c7a",
   "metadata": {},
   "outputs": [],
   "source": [
    "print(pca.explained_variance_)\n"
   ]
  },
  {
   "cell_type": "code",
   "execution_count": null,
   "id": "e5ee10ab",
   "metadata": {
    "scrolled": true
   },
   "outputs": [],
   "source": [
    "print(pca.components_)"
   ]
  },
  {
   "cell_type": "markdown",
   "id": "7b54fabb",
   "metadata": {},
   "source": [
    "Build the predictive model by appling K-Nearest Neighbors (KNN) algorithm"
   ]
  },
  {
   "cell_type": "code",
   "execution_count": null,
   "id": "ba052743",
   "metadata": {},
   "outputs": [],
   "source": [
    "X = principal_Df.iloc[:,0:44].values\n",
    "y = Data_set.iloc[:, 57].values"
   ]
  },
  {
   "cell_type": "markdown",
   "id": "43b6bc95",
   "metadata": {},
   "source": [
    "Splitting the dataset into the Training set and Test set"
   ]
  },
  {
   "cell_type": "code",
   "execution_count": null,
   "id": "ec680333",
   "metadata": {},
   "outputs": [],
   "source": [
    "from sklearn.model_selection import train_test_split\n",
    "X_train, X_test, y_train, y_test = train_test_split(X, y, test_size = 0.20, random_state = 0)"
   ]
  },
  {
   "cell_type": "markdown",
   "id": "2cb520f3",
   "metadata": {},
   "source": [
    "Perform 10-fold cross validation"
   ]
  },
  {
   "cell_type": "code",
   "execution_count": null,
   "id": "62dbfb42",
   "metadata": {},
   "outputs": [],
   "source": [
    "# from sklearn.model_selection import cross_val_score                         # Use cross_val_score function\n",
    "# from sklearn.neighbors import KNeighborsClassifier\n",
    "# import warnings\n",
    "# warnings.filterwarnings('ignore')\n",
    "\n",
    "# knn = KNeighborsClassifier(n_neighbors = 5)\n",
    "# knn.fit(X_train,y_train)\n",
    "\n",
    "# neighbors = []                                                              # Empty list to store neighbors\n",
    "# cv_scores = []                                                              # Empty list to store scores\n",
    "  \n",
    "# # Perform 10-fold cross validation with K=5 for KNN (the n_neighbors parameter)\n",
    "\n",
    "# for k in range(1, 51, 2):                                                   # Range of K we want to try\n",
    "#     neighbors.append(k) \n",
    "#     knn = KNeighborsClassifier(n_neighbors = k)                             # k = 5 for KNeighborsClassifier\n",
    "#     scores = cross_val_score( \n",
    "#         knn, X_train, y_train, cv = 10, scoring = 'accuracy') \n",
    "#     cv_scores.append(scores.mean()) \n",
    "    \n",
    "# # Passing the entirety of X and y, not X_train or y_train, it takes care of splitting the data\n",
    "# # cv=10 for 10 folds\n",
    "# # Scoring='accuracy' for evaluation metric    \n",
    "    \n",
    "# scores = cross_val_score(knn, X, y, cv=10, scoring='accuracy')\n",
    "# print(scores)   "
   ]
  },
  {
   "cell_type": "markdown",
   "id": "b8ddf0dd",
   "metadata": {},
   "source": [
    "Find optimal K value"
   ]
  },
  {
   "cell_type": "code",
   "execution_count": null,
   "id": "7d34e97a",
   "metadata": {},
   "outputs": [],
   "source": [
    "# # Finding the misclassification error versus k\n",
    "# MSE = [1-x for x in cv_scores]                                             \n",
    "\n",
    "# # Finding the best k value\n",
    "# optimal_k = neighbors[MSE.index(min(MSE))]\n",
    "# print('Optimal no. of K neighbors = %d ' %optimal_k)\n",
    "\n",
    "# # Plotting the misclassification error versus k\n",
    "# plt.figure(figsize = (15,6))\n",
    "# plt.plot(neighbors, MSE)\n",
    "# plt.xlabel('Number of K neighbors')\n",
    "# plt.ylabel('Misclassification Error')\n",
    "# plt.show()"
   ]
  },
  {
   "cell_type": "code",
   "execution_count": null,
   "id": "88828503",
   "metadata": {},
   "outputs": [],
   "source": [
    "# # Feature Scaling\n",
    "# from sklearn.preprocessing import StandardScaler\n",
    "# sc = StandardScaler()\n",
    "# X_train = sc.fit_transform(X_train)\n",
    "# X_test = sc.transform(X_test)"
   ]
  },
  {
   "cell_type": "code",
   "execution_count": null,
   "id": "7b4991d8",
   "metadata": {},
   "outputs": [],
   "source": [
    "# Fitting classifier to the Training set\n",
    "from sklearn.neighbors import KNeighborsClassifier\n",
    "classifier = KNeighborsClassifier(n_neighbors=3, metric='minkowski', p=2)\n",
    "classifier.fit(X_train,y_train)"
   ]
  },
  {
   "cell_type": "code",
   "execution_count": null,
   "id": "6216bb18",
   "metadata": {},
   "outputs": [],
   "source": [
    "# Predicting the Test set results\n",
    "y_pred = classifier.predict(X_test)"
   ]
  },
  {
   "cell_type": "code",
   "execution_count": null,
   "id": "b81dd0fb",
   "metadata": {},
   "outputs": [],
   "source": [
    "# Making the Confusion Matrix\n",
    "from sklearn.metrics import confusion_matrix\n",
    "cm = confusion_matrix(y_test, y_pred)\n",
    "cm"
   ]
  },
  {
   "cell_type": "code",
   "execution_count": null,
   "id": "bda432f8",
   "metadata": {},
   "outputs": [],
   "source": [
    "# Generate summary of the prediction (Classification Report) made by the classifier\n",
    "from sklearn.metrics import classification_report\n",
    "\n",
    "print('Classification Report : \\n\\n')\n",
    "print(classification_report(y_test, y_pred))"
   ]
  },
  {
   "cell_type": "code",
   "execution_count": null,
   "id": "8d3ccb17",
   "metadata": {},
   "outputs": [],
   "source": [
    "# Accuracy score of the prediction\n",
    "from sklearn.metrics import accuracy_score\n",
    "print(\"Accuracy score of email prediction using KNN : \",accuracy_score(y_pred,y_test)*100) "
   ]
  },
  {
   "cell_type": "markdown",
   "id": "4b7b23f5",
   "metadata": {},
   "source": [
    "Visualization"
   ]
  },
  {
   "cell_type": "code",
   "execution_count": null,
   "id": "aecf7756",
   "metadata": {},
   "outputs": [],
   "source": [
    "# based on test values generate the confusion matrix\n",
    "from sklearn.metrics import confusion_matrix\n",
    "import seaborn as sns\n",
    "\n",
    "# Summary of the predictions made by the classifier\n",
    "mat = confusion_matrix(y_test, y_pred)\n",
    "sns.heatmap(mat.T, square=True, annot=True, fmt='d', cbar=False)\n",
    "\n",
    "plt.title('Confusion matrix')\n",
    "plt.xlabel('true class')\n",
    "plt.ylabel('predicted class')\n"
   ]
  },
  {
   "cell_type": "markdown",
   "id": "44d86fd2",
   "metadata": {},
   "source": [
    "Decision Tree Classifier"
   ]
  },
  {
   "cell_type": "code",
   "execution_count": null,
   "id": "18f0667c",
   "metadata": {},
   "outputs": [],
   "source": [
    "X = principal_Df.iloc[:,0:44].values\n",
    "y = Data_set.iloc[:, 57].values"
   ]
  },
  {
   "cell_type": "markdown",
   "id": "bbf996a7",
   "metadata": {},
   "source": [
    "Splitting the dataset into the Training set and Test set"
   ]
  },
  {
   "cell_type": "code",
   "execution_count": null,
   "id": "45da448b",
   "metadata": {},
   "outputs": [],
   "source": [
    "\n",
    "from sklearn.model_selection import train_test_split\n",
    "X_train, X_test, y_train, y_test = train_test_split(X, y, test_size = 0.20, random_state = 3)"
   ]
  },
  {
   "cell_type": "markdown",
   "id": "db0a592e",
   "metadata": {},
   "source": [
    "Apply Decision Tree Classifier "
   ]
  },
  {
   "cell_type": "code",
   "execution_count": null,
   "id": "7a587a66",
   "metadata": {},
   "outputs": [],
   "source": [
    "from sklearn.tree import DecisionTreeClassifier\n",
    "spamTree = DecisionTreeClassifier(criterion=\"entropy\", max_depth = 12)\n",
    "spamTree # it shows the default parameters"
   ]
  },
  {
   "cell_type": "code",
   "execution_count": null,
   "id": "e9212e5a",
   "metadata": {},
   "outputs": [],
   "source": [
    "spamTree.fit(X_train,y_train)"
   ]
  },
  {
   "cell_type": "code",
   "execution_count": null,
   "id": "f2a380b6",
   "metadata": {},
   "outputs": [],
   "source": [
    "predTree = spamTree.predict(X_test)"
   ]
  },
  {
   "cell_type": "code",
   "execution_count": null,
   "id": "56eb1f9a",
   "metadata": {},
   "outputs": [],
   "source": [
    "print (predTree [0:5])\n",
    "print (y_test [0:5])\n"
   ]
  },
  {
   "cell_type": "code",
   "execution_count": null,
   "id": "3d1e3595",
   "metadata": {},
   "outputs": [],
   "source": [
    "from sklearn import metrics\n",
    "import matplotlib.pyplot as plt\n",
    "print(\"DecisionTrees's Accuracy: \", metrics.accuracy_score(y_test, predTree))"
   ]
  }
 ],
 "metadata": {
  "kernelspec": {
   "display_name": "Python 3 (ipykernel)",
   "language": "python",
   "name": "python3"
  },
  "language_info": {
   "codemirror_mode": {
    "name": "ipython",
    "version": 3
   },
   "file_extension": ".py",
   "mimetype": "text/x-python",
   "name": "python",
   "nbconvert_exporter": "python",
   "pygments_lexer": "ipython3",
   "version": "3.9.13"
  }
 },
 "nbformat": 4,
 "nbformat_minor": 5
}
